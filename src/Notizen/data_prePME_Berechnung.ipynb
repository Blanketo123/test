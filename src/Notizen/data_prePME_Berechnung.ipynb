{
 "cells": [
  {
   "cell_type": "code",
   "execution_count": 5,
   "metadata": {},
   "outputs": [],
   "source": [
    "import pandas as pd\n",
    "import numpy as np\n",
    "import datetime as dt\n",
    "import matplotlib.pyplot as plt\n",
    "import seaborn as sns\n",
    "import random"
   ]
  },
  {
   "cell_type": "code",
   "execution_count": 15,
   "metadata": {},
   "outputs": [
    {
     "data": {
      "text/plain": [
       "(12938, 8)"
      ]
     },
     "execution_count": 15,
     "metadata": {},
     "output_type": "execute_result"
    }
   ],
   "source": [
    "# importieren der Fund Performance Datei wo die alle funds die Preqin finden kann aufgelistet sind. Spalten enthalten u.a. die IRR und wann der Fund eröffnet wurde\n",
    "df = pd.read_csv(\n",
    "    \"../../data/raw/fund_cashflow.csv\",\n",
    "    low_memory=False  # liest alles auf einmal ein, stabilere Typbestimmung\n",
    ")\n",
    "df.shape"
   ]
  },
  {
   "cell_type": "code",
   "execution_count": 22,
   "metadata": {},
   "outputs": [
    {
     "data": {
      "text/plain": [
       "(31223, 8)"
      ]
     },
     "execution_count": 22,
     "metadata": {},
     "output_type": "execute_result"
    }
   ],
   "source": [
    "# importieren der Fund Performance Datei wo die alle funds die Preqin finden kann aufgelistet sind. Spalten enthalten u.a. die IRR und wann der Fund eröffnet wurde\n",
    "df = pd.read_csv(\n",
    "    \"../../data/raw/cashflows_not_updated.csv\",\n",
    "    low_memory=False  # liest alles auf einmal ein, stabilere Typbestimmung\n",
    ")\n",
    "df.shape"
   ]
  },
  {
   "cell_type": "code",
   "execution_count": 24,
   "metadata": {},
   "outputs": [
    {
     "name": "stdout",
     "output_type": "stream",
     "text": [
      "2021-12-31 00:00:00\n",
      "       fund_id transaction_date  firm_id transaction_type  transaction_amount  \\\n",
      "0            3       2021-12-31   152327            Value                   0   \n",
      "7            9       2021-12-31      741            Value                   0   \n",
      "15          11       2021-12-31      650            Value                   0   \n",
      "16          14       2021-12-31        4            Value                   0   \n",
      "27          15       2021-12-31        4            Value                   0   \n",
      "...        ...              ...      ...              ...                 ...   \n",
      "31139   129353       2021-12-31   176053            Value             1235000   \n",
      "31182   132199       2021-12-31     3795            Value              637440   \n",
      "31202   133748       2021-12-31    15143            Value            10067400   \n",
      "31207   135720       2021-12-31   222118            Value            70000000   \n",
      "31212   136529       2021-12-31    21861            Value             2153770   \n",
      "\n",
      "       cumulative_contribution  cumulative_distribution  net_cashflow  \n",
      "0                    -10010451                 17137892       7127441  \n",
      "7                     -9140000                 16080000       6940000  \n",
      "15                   -10000000                 15676000       5676000  \n",
      "16                    -9747067                 24181784      14434717  \n",
      "27                    -9674336                 14187489       4513153  \n",
      "...                        ...                      ...           ...  \n",
      "31139                 -1300000                        0      -1300000  \n",
      "31182                  -800000                        0       -800000  \n",
      "31202                 -9870000                        0      -9870000  \n",
      "31207                -10000000                        0     -10000000  \n",
      "31212                 -2304000                        0      -2304000  \n",
      "\n",
      "[1065 rows x 8 columns]\n"
     ]
    }
   ],
   "source": [
    "# transaction_date in Datumsformat umwandeln\n",
    "df['transaction_date'] = pd.to_datetime(df['transaction_date'])\n",
    "\n",
    "# neuesten Eintrag finden\n",
    "latest_date = df['transaction_date'].max()\n",
    "\n",
    "# alle Zeilen mit diesem neuesten Datum anzeigen\n",
    "df_latest = df[df['transaction_date'] == latest_date]\n",
    "\n",
    "print(latest_date)\n",
    "print(df_latest)\n"
   ]
  },
  {
   "cell_type": "code",
   "execution_count": 18,
   "metadata": {},
   "outputs": [
    {
     "data": {
      "text/html": [
       "<div>\n",
       "<style scoped>\n",
       "    .dataframe tbody tr th:only-of-type {\n",
       "        vertical-align: middle;\n",
       "    }\n",
       "\n",
       "    .dataframe tbody tr th {\n",
       "        vertical-align: top;\n",
       "    }\n",
       "\n",
       "    .dataframe thead th {\n",
       "        text-align: right;\n",
       "    }\n",
       "</style>\n",
       "<table border=\"1\" class=\"dataframe\">\n",
       "  <thead>\n",
       "    <tr style=\"text-align: right;\">\n",
       "      <th></th>\n",
       "      <th>fund_id</th>\n",
       "      <th>transaction_date</th>\n",
       "      <th>firm_id</th>\n",
       "      <th>transaction_type</th>\n",
       "      <th>transaction_amount</th>\n",
       "      <th>cumulative_contribution</th>\n",
       "      <th>cumulative_distribution</th>\n",
       "      <th>net_cashflow</th>\n",
       "    </tr>\n",
       "  </thead>\n",
       "  <tbody>\n",
       "    <tr>\n",
       "      <th>0</th>\n",
       "      <td>142</td>\n",
       "      <td>2023-12-31</td>\n",
       "      <td>39</td>\n",
       "      <td>Value</td>\n",
       "      <td>69000.00</td>\n",
       "      <td>-9500000.00</td>\n",
       "      <td>8458999.98</td>\n",
       "      <td>-1041000.03</td>\n",
       "    </tr>\n",
       "    <tr>\n",
       "      <th>1</th>\n",
       "      <td>195</td>\n",
       "      <td>2023-12-31</td>\n",
       "      <td>6733</td>\n",
       "      <td>Value</td>\n",
       "      <td>0.00</td>\n",
       "      <td>-15526565.52</td>\n",
       "      <td>31162162.62</td>\n",
       "      <td>15635597.10</td>\n",
       "    </tr>\n",
       "    <tr>\n",
       "      <th>2</th>\n",
       "      <td>240</td>\n",
       "      <td>2023-12-31</td>\n",
       "      <td>75</td>\n",
       "      <td>Value</td>\n",
       "      <td>0.00</td>\n",
       "      <td>-10629932.98</td>\n",
       "      <td>17172103.76</td>\n",
       "      <td>6542170.78</td>\n",
       "    </tr>\n",
       "    <tr>\n",
       "      <th>3</th>\n",
       "      <td>320</td>\n",
       "      <td>2023-12-31</td>\n",
       "      <td>111</td>\n",
       "      <td>Value</td>\n",
       "      <td>26175.29</td>\n",
       "      <td>-12065698.14</td>\n",
       "      <td>28765890.90</td>\n",
       "      <td>16700192.76</td>\n",
       "    </tr>\n",
       "    <tr>\n",
       "      <th>4</th>\n",
       "      <td>321</td>\n",
       "      <td>2023-12-31</td>\n",
       "      <td>111</td>\n",
       "      <td>Value</td>\n",
       "      <td>62824.30</td>\n",
       "      <td>-11122641.80</td>\n",
       "      <td>13547354.24</td>\n",
       "      <td>2424712.44</td>\n",
       "    </tr>\n",
       "  </tbody>\n",
       "</table>\n",
       "</div>"
      ],
      "text/plain": [
       "   fund_id transaction_date  firm_id transaction_type  transaction_amount  \\\n",
       "0      142       2023-12-31       39            Value            69000.00   \n",
       "1      195       2023-12-31     6733            Value                0.00   \n",
       "2      240       2023-12-31       75            Value                0.00   \n",
       "3      320       2023-12-31      111            Value            26175.29   \n",
       "4      321       2023-12-31      111            Value            62824.30   \n",
       "\n",
       "   cumulative_contribution  cumulative_distribution  net_cashflow  \n",
       "0              -9500000.00               8458999.98   -1041000.03  \n",
       "1             -15526565.52              31162162.62   15635597.10  \n",
       "2             -10629932.98              17172103.76    6542170.78  \n",
       "3             -12065698.14              28765890.90   16700192.76  \n",
       "4             -11122641.80              13547354.24    2424712.44  "
      ]
     },
     "execution_count": 18,
     "metadata": {},
     "output_type": "execute_result"
    }
   ],
   "source": [
    "df.head()"
   ]
  },
  {
   "cell_type": "code",
   "execution_count": 19,
   "metadata": {},
   "outputs": [
    {
     "name": "stdout",
     "output_type": "stream",
     "text": [
      "Anzahl einzigartiger Funds: 2551\n"
     ]
    }
   ],
   "source": [
    "# Anzahl einzigartiger Fund-IDs\n",
    "unique_funds_count = df[\"fund_id\"].nunique()\n",
    "\n",
    "print(f\"Anzahl einzigartiger Funds: {unique_funds_count}\")\n"
   ]
  },
  {
   "cell_type": "code",
   "execution_count": 21,
   "metadata": {},
   "outputs": [
    {
     "data": {
      "text/html": [
       "<div>\n",
       "<style scoped>\n",
       "    .dataframe tbody tr th:only-of-type {\n",
       "        vertical-align: middle;\n",
       "    }\n",
       "\n",
       "    .dataframe tbody tr th {\n",
       "        vertical-align: top;\n",
       "    }\n",
       "\n",
       "    .dataframe thead th {\n",
       "        text-align: right;\n",
       "    }\n",
       "</style>\n",
       "<table border=\"1\" class=\"dataframe\">\n",
       "  <thead>\n",
       "    <tr style=\"text-align: right;\">\n",
       "      <th></th>\n",
       "      <th>fund_id</th>\n",
       "      <th>transaction_date</th>\n",
       "      <th>firm_id</th>\n",
       "      <th>transaction_type</th>\n",
       "      <th>transaction_amount</th>\n",
       "      <th>cumulative_contribution</th>\n",
       "      <th>cumulative_distribution</th>\n",
       "      <th>net_cashflow</th>\n",
       "    </tr>\n",
       "  </thead>\n",
       "  <tbody>\n",
       "    <tr>\n",
       "      <th>1</th>\n",
       "      <td>195</td>\n",
       "      <td>2023-12-31</td>\n",
       "      <td>6733</td>\n",
       "      <td>Value</td>\n",
       "      <td>0.0</td>\n",
       "      <td>-15526565.52</td>\n",
       "      <td>31162162.62</td>\n",
       "      <td>15635597.1</td>\n",
       "    </tr>\n",
       "    <tr>\n",
       "      <th>10966</th>\n",
       "      <td>195</td>\n",
       "      <td>2024-09-30</td>\n",
       "      <td>6733</td>\n",
       "      <td>Value</td>\n",
       "      <td>0.0</td>\n",
       "      <td>-15526565.52</td>\n",
       "      <td>31162162.62</td>\n",
       "      <td>15635597.1</td>\n",
       "    </tr>\n",
       "  </tbody>\n",
       "</table>\n",
       "</div>"
      ],
      "text/plain": [
       "       fund_id transaction_date  firm_id transaction_type  transaction_amount  \\\n",
       "1          195       2023-12-31     6733            Value                 0.0   \n",
       "10966      195       2024-09-30     6733            Value                 0.0   \n",
       "\n",
       "       cumulative_contribution  cumulative_distribution  net_cashflow  \n",
       "1                 -15526565.52              31162162.62    15635597.1  \n",
       "10966             -15526565.52              31162162.62    15635597.1  "
      ]
     },
     "execution_count": 21,
     "metadata": {},
     "output_type": "execute_result"
    }
   ],
   "source": [
    "df[df[\"fund_id\"] == 195]"
   ]
  },
  {
   "cell_type": "code",
   "execution_count": null,
   "metadata": {},
   "outputs": [],
   "source": []
  }
 ],
 "metadata": {
  "kernelspec": {
   "display_name": "base",
   "language": "python",
   "name": "python3"
  },
  "language_info": {
   "codemirror_mode": {
    "name": "ipython",
    "version": 3
   },
   "file_extension": ".py",
   "mimetype": "text/x-python",
   "name": "python",
   "nbconvert_exporter": "python",
   "pygments_lexer": "ipython3",
   "version": "3.11.5"
  }
 },
 "nbformat": 4,
 "nbformat_minor": 2
}
